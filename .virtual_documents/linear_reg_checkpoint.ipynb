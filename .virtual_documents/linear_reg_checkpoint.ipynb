





# Run this cell without changes

import pandas as pd
import warnings
warnings.filterwarnings('ignore')

df = pd.read_csv("ames.csv", index_col=0)
df = df[["SalePrice", "GrLivArea", "GarageArea", "LotArea", "LotFrontage"]].copy()
df.dropna(inplace=True)
df.head()








# Run this cell without changes
df.corr()["SalePrice"]





# CodeGrade step1

import statsmodels.api as sm

# Replace None with appropriate code
exog =  sm.add_constant(df["GrLivArea"])  # Adding constant for intercept
endog = df['SalePrice']

# Building the linear regression model
simple_model = sm.OLS(endog, exog)

# Fitting the model
simple_model_results = simple_model.fit()
print(simple_model_results.summary())


# simple_model should be an OLS model
assert type(simple_model) == sm.OLS

# simple_model should have 1 feature (other than the constant)
assert simple_model.df_model == 1





# CodeGrade step2
# Replace None with appropriate code
r_squared = 0.495
model_is_significant = True


import numpy as np

# r_squared should be a floating point value between 0 and 1
assert 0 <= r_squared and r_squared <= 1
assert type(r_squared) == float or type(r_squared) == np.float64

# model_is_significant should be True or False
assert model_is_significant == True or model_is_significant == False





# CodeGrade step3
# Replace None with appropriate code

# Slope (coefficient of GrLivArea)
m = 110.7117

# Intercept (coefficient of const)
b = 13470.0

print(f"""
Our simple linear regression model found a y-intercept
of ${round(b, 2):,}, then for every increase of 1 square foot
above-ground living area, the price increases by ${round(m, 2)} 
""")


from numbers import Number

# m should be a number
assert isinstance(m, Number)

# b should be a number
assert isinstance(b, Number)





# CodeGrade step4
# Replace None with appropriate code

# Defining the independent and dependent variables and adding constant for the intercept
exog = sm.add_constant(df[["GrLivArea", "GarageArea", "LotArea", "LotFrontage"]])
endog = df["SalePrice"]

# Building the multiple linear regression model
multiple_model = sm.OLS(endog, exog)

# Fitting the model
multiple_model_results = multiple_model.fit()
print(multiple_model_results.summary())


# multiple_model should be an OLS model
assert type(multiple_model) == sm.OLS

# multiple_model should have 4 features (other than the constant)
assert multiple_model.df_model == 4





# CodeGrade step5.1
# Replace None with appropriate code
second_model_is_better = True





# second_model_is_better should be True or False
assert second_model_is_better == True or second_model_is_better == False











# CodeGrade step5.2
# Replace None with appropriate string name for the feature
not_significant = "LotFrontage"


# not_significant should be a string
assert type(not_significant) == str

# It should be one of the features in df
assert not_significant in df.columns
